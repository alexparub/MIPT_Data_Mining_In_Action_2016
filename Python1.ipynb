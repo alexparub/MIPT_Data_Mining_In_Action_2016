{
 "cells": [
  {
   "cell_type": "markdown",
   "metadata": {},
   "source": [
    "# 1.Python"
   ]
  },
  {
   "cell_type": "markdown",
   "metadata": {},
   "source": [
    "## 1.1. FizzBuzz Question"
   ]
  },
  {
   "cell_type": "code",
   "execution_count": 203,
   "metadata": {
    "collapsed": false
   },
   "outputs": [
    {
     "name": "stdout",
     "output_type": "stream",
     "text": [
      "1\n",
      "2\n",
      "Fizz\n",
      "4\n",
      "Buzz\n",
      "Fizz\n",
      "7\n",
      "8\n",
      "Fizz\n",
      "Buzz\n",
      "11\n",
      "Fizz\n",
      "13\n",
      "14\n",
      "FizzBuzz\n",
      "16\n",
      "17\n",
      "Fizz\n",
      "19\n",
      "Buzz\n",
      "Fizz\n",
      "22\n",
      "23\n",
      "Fizz\n",
      "Buzz\n",
      "26\n",
      "Fizz\n",
      "28\n",
      "29\n",
      "FizzBuzz\n",
      "31\n",
      "32\n",
      "Fizz\n",
      "34\n",
      "Buzz\n",
      "Fizz\n",
      "37\n",
      "38\n",
      "Fizz\n",
      "Buzz\n",
      "41\n",
      "Fizz\n",
      "43\n",
      "44\n",
      "FizzBuzz\n",
      "46\n",
      "47\n",
      "Fizz\n",
      "49\n",
      "Buzz\n",
      "Fizz\n",
      "52\n",
      "53\n",
      "Fizz\n",
      "Buzz\n",
      "56\n",
      "Fizz\n",
      "58\n",
      "59\n",
      "FizzBuzz\n",
      "61\n",
      "62\n",
      "Fizz\n",
      "64\n",
      "Buzz\n",
      "Fizz\n",
      "67\n",
      "68\n",
      "Fizz\n",
      "Buzz\n",
      "71\n",
      "Fizz\n",
      "73\n",
      "74\n",
      "FizzBuzz\n",
      "76\n",
      "77\n",
      "Fizz\n",
      "79\n",
      "Buzz\n",
      "Fizz\n",
      "82\n",
      "83\n",
      "Fizz\n",
      "Buzz\n",
      "86\n",
      "Fizz\n",
      "88\n",
      "89\n",
      "FizzBuzz\n",
      "91\n",
      "92\n",
      "Fizz\n",
      "94\n",
      "Buzz\n",
      "Fizz\n",
      "97\n",
      "98\n",
      "Fizz\n",
      "Buzz\n"
     ]
    }
   ],
   "source": [
    "for i in range(1,101):\n",
    "    if i % 15 == 0:\n",
    "        print 'FizzBuzz'\n",
    "    elif i % 3 == 0:\n",
    "        print 'Fizz'\n",
    "    elif i % 5 == 0:\n",
    "        print 'Buzz'\n",
    "    else: \n",
    "        print i"
   ]
  },
  {
   "cell_type": "markdown",
   "metadata": {},
   "source": [
    "## 1.2. Фибоначчи"
   ]
  },
  {
   "cell_type": "code",
   "execution_count": 204,
   "metadata": {
    "collapsed": true
   },
   "outputs": [],
   "source": [
    "def Fibonachi(n):\n",
    "    a = 0\n",
    "    b = 1\n",
    "    if n == 1:\n",
    "        return a\n",
    "    elif n == 2:\n",
    "        return b\n",
    "    else:\n",
    "        for i in range(3,n + 1):\n",
    "            c = a + b\n",
    "            a = b\n",
    "            b = c\n",
    "        return b"
   ]
  },
  {
   "cell_type": "code",
   "execution_count": 205,
   "metadata": {
    "collapsed": false
   },
   "outputs": [
    {
     "name": "stdout",
     "output_type": "stream",
     "text": [
      "218922995834555169026\n"
     ]
    }
   ],
   "source": [
    "print Fibonachi(100) "
   ]
  },
  {
   "cell_type": "markdown",
   "metadata": {},
   "source": [
    "## 1.3. Сортировка массива quickSort"
   ]
  },
  {
   "cell_type": "code",
   "execution_count": 206,
   "metadata": {
    "collapsed": false
   },
   "outputs": [],
   "source": [
    "def quickSort(array, start, end):\n",
    "    pivot = array[start]\n",
    "    left = start\n",
    "    right = end\n",
    "    while left <= right:\n",
    "        while array[left] < pivot:\n",
    "            left += 1\n",
    "        while array[right] > pivot:\n",
    "            right -= 1\n",
    "        if left <= right :\n",
    "            cur = array[left]\n",
    "            array[left] = array[right]\n",
    "            array[right] = cur\n",
    "            left += 1\n",
    "            right -= 1\n",
    "    if start < right:\n",
    "        quickSort(array, start, right)\n",
    "    if end > left:  \n",
    "        quickSort(array, left, end)\n",
    "    return array "
   ]
  },
  {
   "cell_type": "code",
   "execution_count": 207,
   "metadata": {
    "collapsed": false
   },
   "outputs": [
    {
     "name": "stdout",
     "output_type": "stream",
     "text": [
      "[-1, 1, 2, 3, 5, 5, 7, 23, 91]\n"
     ]
    }
   ],
   "source": [
    "a = [1, 5, 7, 3, 91, 2, -1, 23, 5]\n",
    "print quickSort(a, 0, len(a) - 1)"
   ]
  },
  {
   "cell_type": "markdown",
   "metadata": {},
   "source": [
    "## 1.4. quickSort с list comprehension"
   ]
  },
  {
   "cell_type": "code",
   "execution_count": 208,
   "metadata": {
    "collapsed": true
   },
   "outputs": [],
   "source": [
    "def qsort(array):\n",
    "    if array == []: \n",
    "        return []\n",
    "    pivot = array[0]\n",
    "    l = qsort([x for x in array[1:] if x < pivot])\n",
    "    u = qsort([x for x in array[1:] if x >= pivot])\n",
    "    return l + [pivot] + u"
   ]
  },
  {
   "cell_type": "code",
   "execution_count": 209,
   "metadata": {
    "collapsed": false
   },
   "outputs": [
    {
     "name": "stdout",
     "output_type": "stream",
     "text": [
      "[-1, 1, 2, 3, 5, 5, 7, 23, 91]\n"
     ]
    }
   ],
   "source": [
    "a = [1, 5, 7, 3, 91, 2, -1, 23, 5]\n",
    "print qsort(a)"
   ]
  },
  {
   "cell_type": "markdown",
   "metadata": {},
   "source": [
    "# 2. Numpy"
   ]
  },
  {
   "cell_type": "markdown",
   "metadata": {},
   "source": [
    "## 2.1. Linspace "
   ]
  },
  {
   "cell_type": "code",
   "execution_count": 210,
   "metadata": {
    "collapsed": true
   },
   "outputs": [],
   "source": [
    "def linspace(start, end, num, endpoint = True, retstep = False):\n",
    "    if start > end: \n",
    "        print(\"Error!\")\n",
    "        return -1\n",
    "    if endpoint:\n",
    "        step = (end - start)/float(num - 1)\n",
    "    else: \n",
    "        step = (end - start)/float(num)\n",
    "\n",
    "    array = []\n",
    "    for i in range(num):\n",
    "        array.append(round(start + i *step,8))\n",
    "    if retstep:\n",
    "        return array, step\n",
    "    else: \n",
    "        return array\n",
    "        "
   ]
  },
  {
   "cell_type": "code",
   "execution_count": 211,
   "metadata": {
    "collapsed": false
   },
   "outputs": [
    {
     "name": "stdout",
     "output_type": "stream",
     "text": [
      "It took: 0.33 miliseconds\n",
      "[0.0, 0.33333333, 0.66666667, 1.0]\n",
      "[0.0, 0.25, 0.5, 0.75]\n",
      "[0.0, 0.33333333, 0.66666667, 1.0] 0.333333333333\n"
     ]
    }
   ],
   "source": [
    "import time\n",
    "was = time.time()\n",
    "a = linspace(0, 1, 4)\n",
    "b = linspace(0, 1, 4, False)\n",
    "c, h = linspace(0, 1, 4, retstep = True)\n",
    "print \"It took:\", round(time.time() - was, 5) * 1000, 'miliseconds'\n",
    "print a\n",
    "print b\n",
    "print c, h\n"
   ]
  },
  {
   "cell_type": "code",
   "execution_count": 212,
   "metadata": {
    "collapsed": false
   },
   "outputs": [],
   "source": [
    "def linspaceComp(start, end, num, endpoint = True, retstep = False):\n",
    "    if start > end: \n",
    "        print(\"Error!\")\n",
    "        return -1\n",
    "    \n",
    "    if endpoint:\n",
    "        step = (end - start)/float(num - 1)\n",
    "    else: \n",
    "        step = (end - start)/float(num)\n",
    "        \n",
    "    array = [round(start + i * step, 8) for i in range(num)]\n",
    "    if retstep:\n",
    "        return array, step\n",
    "    else: \n",
    "        return array"
   ]
  },
  {
   "cell_type": "code",
   "execution_count": 213,
   "metadata": {
    "collapsed": false
   },
   "outputs": [
    {
     "name": "stdout",
     "output_type": "stream",
     "text": [
      "It took: 0.35 miliseconds\n",
      "[0.0, 0.33333333, 0.66666667, 1.0]\n",
      "[0.0, 0.25, 0.5, 0.75]\n",
      "[0.0, 0.33333333, 0.66666667, 1.0] 0.333333333333\n"
     ]
    }
   ],
   "source": [
    "was = time.time()\n",
    "a = linspaceComp(0, 1, 4)\n",
    "b = linspaceComp(0, 1, 4, False)\n",
    "c, h = linspaceComp(0, 1, 4, retstep = True)\n",
    "print \"It took:\", round(time.time() - was, 5) * 1000, 'miliseconds'\n",
    "print a\n",
    "print b\n",
    "print c, h"
   ]
  },
  {
   "cell_type": "code",
   "execution_count": 214,
   "metadata": {
    "collapsed": false
   },
   "outputs": [
    {
     "name": "stdout",
     "output_type": "stream",
     "text": [
      "It took: 0.79 miliseconds\n",
      "[ 0.          0.33333333  0.66666667  1.        ]\n",
      "[ 0.    0.25  0.5   0.75]\n",
      "[ 0.          0.33333333  0.66666667  1.        ] 0.333333333333\n"
     ]
    }
   ],
   "source": [
    "import numpy as np\n",
    "was = time.time()\n",
    "a = np.linspace(0, 1, 4)\n",
    "b = np.linspace(0, 1, 4, False)\n",
    "c, h = np.linspace(0, 1, 4, retstep = True)\n",
    "print \"It took:\", round(time.time() - was, 5) * 1000, 'miliseconds'\n",
    "print a\n",
    "print b\n",
    "print c, h"
   ]
  },
  {
   "cell_type": "markdown",
   "metadata": {},
   "source": [
    "## 2.2. Сравнение производительности np.ndarray и list "
   ]
  },
  {
   "cell_type": "code",
   "execution_count": 215,
   "metadata": {
    "collapsed": false
   },
   "outputs": [
    {
     "name": "stdout",
     "output_type": "stream",
     "text": [
      "[0.67524446656086445, 0.37256406166930567, 0.55647912185151716, 0.29131630869841529, 0.78193941409236145, 0.67241564961020006, 0.9844712726115612, 0.48273827414426984, 0.094005083938289546, 0.22195641062098936]\n",
      "[ 0.67524447  0.37256406  0.55647912  0.29131631  0.78193941  0.67241565\n",
      "  0.98447127  0.48273827  0.09400508  0.22195641]\n"
     ]
    }
   ],
   "source": [
    "import numpy as np\n",
    "listt = list(np.random.random(10))\n",
    "ndarray = np.array(listt)\n",
    "print listt\n",
    "print ndarray"
   ]
  },
  {
   "cell_type": "code",
   "execution_count": 216,
   "metadata": {
    "collapsed": false
   },
   "outputs": [
    {
     "name": "stdout",
     "output_type": "stream",
     "text": [
      "Append operation is quicker for list: 0.2 ms against 0.32 ms\n"
     ]
    }
   ],
   "source": [
    "#1) append\n",
    "was = time.time()\n",
    "listt.append(5)\n",
    "end1 = time.time() - was\n",
    "was = time.time()\n",
    "ndarray = np.append(ndarray, 5)\n",
    "end2 = time.time() - was\n",
    "if end1 > end2:\n",
    "    print \"Append operation is quicker for numpy.ndarray:\", round(end2 * 1000,2),'ms', \"against\", round(end1 * 1000,2), 'ms'\n",
    "else:\n",
    "    print \"Append operation is quicker for list:\", round(end1 * 1000,2),'ms', \"against\", round(end2 * 1000,2), 'ms'"
   ]
  },
  {
   "cell_type": "code",
   "execution_count": 217,
   "metadata": {
    "collapsed": false
   },
   "outputs": [
    {
     "name": "stdout",
     "output_type": "stream",
     "text": [
      "Pop(delete) operation is quicker for list: 0.14 ms against 0.25 ms\n"
     ]
    }
   ],
   "source": [
    "#2) pop(index)\n",
    "was = time.time()\n",
    "listt.pop(4)\n",
    "end1 = time.time() - was\n",
    "was = time.time()\n",
    "ndarray = np.delete(ndarray, 4, 0)\n",
    "end2 = time.time() - was\n",
    "if end1 > end2:\n",
    "    print \"Pop(delete) operation is quicker for numpy.ndarray:\", round(end2 * 1000,2),'ms', \"against\", round(end1 * 1000,2), 'ms'\n",
    "else:\n",
    "    print \"Pop(delete) operation is quicker for list:\", round(end1 * 1000,2),'ms', \"against\", round(end2 * 1000,2), 'ms'"
   ]
  },
  {
   "cell_type": "code",
   "execution_count": 218,
   "metadata": {
    "collapsed": false
   },
   "outputs": [
    {
     "name": "stdout",
     "output_type": "stream",
     "text": [
      "Sort operation is quicker for numpy.ndarray: 0.13 ms against 0.14 ms\n"
     ]
    }
   ],
   "source": [
    "#3) sort\n",
    "was = time.time()\n",
    "listt.sort()\n",
    "end1 = time.time() - was\n",
    "was = time.time()\n",
    "ndarray = np.sort(ndarray)\n",
    "end2 = time.time() - was\n",
    "if end1 > end2:\n",
    "    print \"Sort operation is quicker for numpy.ndarray:\", round(end2 * 1000,2),'ms', \"against\", round(end1 * 1000,2), 'ms'\n",
    "else:\n",
    "    print \"Sort operation is quicker for list:\", round(end1 * 1000,2),'ms', \"against\", round(end2 * 1000,2), 'ms'"
   ]
  },
  {
   "cell_type": "markdown",
   "metadata": {},
   "source": [
    "# 3. Matplotlib"
   ]
  },
  {
   "cell_type": "code",
   "execution_count": 219,
   "metadata": {
    "collapsed": false
   },
   "outputs": [
    {
     "data": {
      "image/png": "[encoded data removed]",
      "text/plain": [
       "<matplotlib.figure.Figure at 0x10f4a9ed0>"
      ]
     },
     "metadata": {},
     "output_type": "display_data"
    }
   ],
   "source": [
    "import matplotlib.pyplot as plt\n",
    "%matplotlib inline\n",
    "fig = plt.figure(figsize = (16,9))\n",
    "\n",
    "x = np.arange(-2,2,0.1)\n",
    "ax = fig.add_subplot(2,2,1)\n",
    "ax.plot(x,x*x, 'g' ,  label = r'$y = x^2$')\n",
    "ax.plot(x,4 * np.cos(x), 'r', label = r'$y = 4\\cos{x}$')\n",
    "ax.plot(x,np.exp(x), 'b', label = r'$y = e^x$')\n",
    "\n",
    "ax.legend(loc = 2, framealpha = 0.7)\n",
    "ax.set_title('3 element fuctions on my choice')\n",
    "ax.set_xlabel(r'$x$')\n",
    "ax.set_ylabel(r'$y$')\n",
    "ax.grid(c = 'darkgray')\n",
    "\n",
    "bx = fig.add_subplot(2,2,2)\n",
    "bx.plot(x,np.arctan(abs(x)), 'c' ,  label = r'$\\arctan{|x|}$')\n",
    "bx.plot(x,np.sin(x), 'm', label = r'$\\sin{x}$')\n",
    "bx.set_title('Other 2 functions')\n",
    "bx.set_xlabel(r'$x$')\n",
    "bx.set_ylabel(r'$y$')\n",
    "bx.legend(loc = 'best', framealpha = 0.7)\n",
    "bx.grid(c = 'darkgray')\n",
    "\n",
    "plt.xlim(-2, 2)\n",
    "plt.savefig('3func+2func.png', dpi = 400, bbox_inches = 'tight')"
   ]
  },
  {
   "cell_type": "markdown",
   "metadata": {},
   "source": [
    "# 4. SciPy"
   ]
  },
  {
   "cell_type": "markdown",
   "metadata": {},
   "source": [
    "## 4.1. Генерация матрицы из стандартного распределения. "
   ]
  },
  {
   "cell_type": "code",
   "execution_count": 220,
   "metadata": {
    "collapsed": false
   },
   "outputs": [],
   "source": [
    "import numpy as np\n",
    "from scipy import linalg\n",
    "\n",
    "A = np.random.standard_normal(size = (5,5))"
   ]
  },
  {
   "cell_type": "markdown",
   "metadata": {},
   "source": [
    "## 4.2. и 4.3. Собственные векторы, собственные значения и проверка результатов. "
   ]
  },
  {
   "cell_type": "code",
   "execution_count": 225,
   "metadata": {
    "collapsed": false
   },
   "outputs": [
    {
     "name": "stdout",
     "output_type": "stream",
     "text": [
      "[-0.+0.j -0.+0.j -0.+0.j  0.+0.j  0.+0.j]\n",
      "[ 0.+0.j  0.+0.j -0.+0.j -0.+0.j  0.+0.j]\n",
      "[-0.+0.j  0.+0.j  0.+0.j -0.-0.j -0.-0.j]\n",
      "[-0.-0.j  0.-0.j  0.-0.j -0.+0.j -0.+0.j]\n",
      "[ 0.+0.j  0.+0.j -0.+0.j -0.+0.j  0.+0.j]\n"
     ]
    }
   ],
   "source": [
    "eigenvalues, eigenvectors = linalg.eig(A)\n",
    "for i in range(len(eigenvalues)):\n",
    "    print np.around(A.dot(eigenvectors[:, i]) - eigenvalues[i] * eigenvectors[:, i], 2)"
   ]
  },
  {
   "cell_type": "code",
   "execution_count": null,
   "metadata": {
    "collapsed": true
   },
   "outputs": [],
   "source": []
  }
 ],
 "metadata": {
  "kernelspec": {
   "display_name": "Python 2",
   "language": "python",
   "name": "python2"
  },
  "language_info": {
   "codemirror_mode": {
    "name": "ipython",
    "version": 2
   },
   "file_extension": ".py",
   "mimetype": "text/x-python",
   "name": "python",
   "nbconvert_exporter": "python",
   "pygments_lexer": "ipython2",
   "version": "2.7.10"
  }
 },
 "nbformat": 4,
 "nbformat_minor": 0
}
